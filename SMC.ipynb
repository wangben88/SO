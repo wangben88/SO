{
 "cells": [
  {
   "cell_type": "code",
   "execution_count": 114,
   "metadata": {},
   "outputs": [],
   "source": [
    "import numpy as np\n",
    "import matplotlib.pyplot as plt"
   ]
  },
  {
   "cell_type": "code",
   "execution_count": 129,
   "metadata": {},
   "outputs": [],
   "source": [
    "class simple_iterates:\n",
    "    x = 0\n",
    "    h = 0.1\n",
    "    B = 0.5\n",
    "    \n",
    "    def __iter__(self):\n",
    "        return self\n",
    "    \n",
    "    def __next__(self):\n",
    "        self.x = (1-self.h*self.B)*self.x + np.random.normal(0, 0)\n",
    "        return self.x"
   ]
  },
  {
   "cell_type": "code",
   "execution_count": 130,
   "metadata": {},
   "outputs": [],
   "source": [
    "def initialize_params(n):\n",
    "    mu_positions = np.random.uniform(-1, 1, n)\n",
    "    A_positions = np.random.uniform(0, 1, n)\n",
    "    Sigma_positions = np.random.uniform(0, 0.5, n)\n",
    "    positions = np.stack((mu_positions, A_positions, Sigma_positions))\n",
    "    \n",
    "    weights = np.full(n, 1/n)\n",
    "    \n",
    "    return dict(positions=positions, weights=weights)\n",
    "\n",
    "\n",
    "def initialize_A(n):\n",
    "    mu_positions = np.random.uniform(0, 1, n)\n",
    "    mu_weights = np.full((1, n), 1/n)\n",
    "    return np.concatenate((mu_positions, mu_weights))\n",
    "\n",
    "def gaussian_kernel(params, x_prev, x_curr):\n",
    "    #params = [mu, A, Sigma]\n",
    "    mu = params[0]\n",
    "    A = params[1]\n",
    "    Sigma = params[2]\n",
    "    return np.exp(-((x_curr - (mu + A*(x_prev-mu)))**2)/(2*Sigma))\n",
    "    \n",
    "def reweight(particles, iterates):\n",
    "    positions = particles[\"positions\"]\n",
    "    weights = particles[\"weights\"]\n",
    "    \n",
    "    def iterates_prob(position):\n",
    "        prob = 1\n",
    "        for i in range(0, iterates.size-1):\n",
    "            prob = prob * gaussian_kernel(position, iterates[i], iterates[i+1])\n",
    "        return prob\n",
    "    \n",
    "    probs = np.zeros(weights.size)\n",
    "    for idx, position in enumerate(positions.T):\n",
    "        probs[idx] = iterates_prob(position)\n",
    "    \n",
    "    weights = np.multiply(weights, probs)\n",
    "    weights = weights/np.sum(weights)\n",
    "    \n",
    "    return dict(positions=positions, weights=weights)\n",
    "\n",
    "def resample(particles):\n",
    "    positions = particles[\"positions\"]\n",
    "    weights = particles[\"weights\"]\n",
    "    \n",
    "    positions = positions[:, np.random.choice(positions.shape[1], positions.shape[1], p=weights)]\n",
    "    weights = np.full(weights.size, 1/weights.size)\n",
    "    return dict(positions=positions, weights=weights)\n",
    "\n",
    "def Optimize(num_particles, batch_size, num_iterations):\n",
    "    \n",
    "    iterates = simple_iterates()\n",
    "    iterates_array = np.zeros(num_iterations*batch_size);\n",
    "    \n",
    "    particles_arr = []\n",
    "    particles_arr.append(initialize_params(num_particles))\n",
    "    \n",
    "    for i in range(0, num_iterations):\n",
    "        if (i==0):\n",
    "            last_iterate = next(iterates)\n",
    "        else:\n",
    "            last_iterate = iterates_array[i*batch_size - 1]\n",
    "        \n",
    "        iterates_batch = np.zeros(batch_size)\n",
    "        for p in range(0, batch_size):        \n",
    "            iterates_batch[p] = next(iterates)\n",
    "        \n",
    "        new_particles = particles_arr[-1]\n",
    "        \n",
    "        #STEP 1: Reweighting\n",
    "        new_particles = reweight(new_particles, np.insert(iterates_batch, 0, last_iterate, axis=0))\n",
    "        \n",
    "        \n",
    "        #STEP 2: Resampling\n",
    "        new_particles = resample(new_particles)\n",
    "        \n",
    "        particles_arr.append(new_particles)\n",
    "        \n",
    "        iterates_array[i*batch_size:(i+1)*batch_size] = iterates_batch\n",
    "        \n",
    "    print(iterates_array)\n",
    "        \n",
    "    return particles_arr"
   ]
  },
  {
   "cell_type": "code",
   "execution_count": 141,
   "metadata": {},
   "outputs": [
    {
     "name": "stdout",
     "output_type": "stream",
     "text": [
      "[0. 0. 0. 0. 0. 0. 0. 0. 0. 0. 0. 0. 0. 0. 0. 0. 0. 0. 0. 0. 0. 0. 0. 0.\n",
      " 0. 0. 0. 0. 0. 0. 0. 0. 0. 0. 0. 0. 0. 0. 0. 0. 0. 0. 0. 0. 0. 0. 0. 0.\n",
      " 0. 0. 0. 0. 0. 0. 0. 0. 0. 0. 0. 0. 0. 0. 0. 0. 0. 0. 0. 0. 0. 0. 0. 0.\n",
      " 0. 0. 0. 0. 0. 0. 0. 0. 0. 0. 0. 0. 0. 0. 0. 0. 0. 0. 0. 0. 0. 0. 0. 0.\n",
      " 0. 0. 0. 0. 0. 0. 0. 0. 0. 0. 0. 0. 0. 0. 0. 0. 0. 0. 0. 0. 0. 0. 0. 0.\n",
      " 0. 0. 0. 0. 0. 0. 0. 0. 0. 0. 0. 0. 0. 0. 0. 0. 0. 0. 0. 0. 0. 0. 0. 0.\n",
      " 0. 0. 0. 0. 0. 0. 0. 0. 0. 0. 0. 0. 0. 0. 0. 0. 0. 0. 0. 0. 0. 0. 0. 0.\n",
      " 0. 0. 0. 0. 0. 0. 0. 0. 0. 0. 0. 0. 0. 0. 0. 0. 0. 0. 0. 0. 0. 0. 0. 0.\n",
      " 0. 0. 0. 0. 0. 0. 0. 0. 0. 0. 0. 0. 0. 0. 0. 0. 0. 0. 0. 0. 0. 0. 0. 0.\n",
      " 0. 0. 0. 0. 0. 0. 0. 0. 0. 0. 0. 0. 0. 0. 0. 0. 0. 0. 0. 0. 0. 0. 0. 0.\n",
      " 0. 0. 0. 0. 0. 0. 0. 0. 0. 0. 0. 0. 0. 0. 0. 0. 0. 0. 0. 0. 0. 0. 0. 0.\n",
      " 0. 0. 0. 0. 0. 0. 0. 0. 0. 0. 0. 0. 0. 0. 0. 0. 0. 0. 0. 0. 0. 0. 0. 0.\n",
      " 0. 0. 0. 0. 0. 0. 0. 0. 0. 0. 0. 0. 0. 0. 0. 0. 0. 0. 0. 0. 0. 0. 0. 0.\n",
      " 0. 0. 0. 0. 0. 0. 0. 0. 0. 0. 0. 0. 0. 0. 0. 0. 0. 0. 0. 0. 0. 0. 0. 0.\n",
      " 0. 0. 0. 0. 0. 0. 0. 0. 0. 0. 0. 0. 0. 0. 0. 0. 0. 0. 0. 0. 0. 0. 0. 0.\n",
      " 0. 0. 0. 0. 0. 0. 0. 0. 0. 0. 0. 0. 0. 0. 0. 0. 0. 0. 0. 0. 0. 0. 0. 0.\n",
      " 0. 0. 0. 0. 0. 0. 0. 0. 0. 0. 0. 0. 0. 0. 0. 0. 0. 0. 0. 0. 0. 0. 0. 0.\n",
      " 0. 0. 0. 0. 0. 0. 0. 0. 0. 0. 0. 0. 0. 0. 0. 0. 0. 0. 0. 0. 0. 0. 0. 0.\n",
      " 0. 0. 0. 0. 0. 0. 0. 0. 0. 0. 0. 0. 0. 0. 0. 0. 0. 0. 0. 0. 0. 0. 0. 0.\n",
      " 0. 0. 0. 0. 0. 0. 0. 0. 0. 0. 0. 0. 0. 0. 0. 0. 0. 0. 0. 0. 0. 0. 0. 0.\n",
      " 0. 0. 0. 0. 0. 0. 0. 0. 0. 0. 0. 0. 0. 0. 0. 0. 0. 0. 0. 0. 0. 0. 0. 0.\n",
      " 0. 0. 0. 0. 0. 0. 0. 0. 0. 0. 0. 0. 0. 0. 0. 0. 0. 0. 0. 0. 0. 0. 0. 0.\n",
      " 0. 0. 0. 0. 0. 0. 0. 0. 0. 0. 0. 0. 0. 0. 0. 0. 0. 0. 0. 0. 0. 0. 0. 0.\n",
      " 0. 0. 0. 0. 0. 0. 0. 0. 0. 0. 0. 0. 0. 0. 0. 0. 0. 0. 0. 0. 0. 0. 0. 0.\n",
      " 0. 0. 0. 0. 0. 0. 0. 0. 0. 0. 0. 0. 0. 0. 0. 0. 0. 0. 0. 0. 0. 0. 0. 0.\n",
      " 0. 0. 0. 0. 0. 0. 0. 0. 0. 0. 0. 0. 0. 0. 0. 0. 0. 0. 0. 0. 0. 0. 0. 0.\n",
      " 0. 0. 0. 0. 0. 0. 0. 0. 0. 0. 0. 0. 0. 0. 0. 0. 0. 0. 0. 0. 0. 0. 0. 0.\n",
      " 0. 0. 0. 0. 0. 0. 0. 0. 0. 0. 0. 0. 0. 0. 0. 0. 0. 0. 0. 0. 0. 0. 0. 0.\n",
      " 0. 0. 0. 0. 0. 0. 0. 0. 0. 0. 0. 0. 0. 0. 0. 0. 0. 0. 0. 0. 0. 0. 0. 0.\n",
      " 0. 0. 0. 0. 0. 0. 0. 0. 0. 0. 0. 0. 0. 0. 0. 0. 0. 0. 0. 0. 0. 0. 0. 0.\n",
      " 0. 0. 0. 0. 0. 0. 0. 0. 0. 0. 0. 0. 0. 0. 0. 0. 0. 0. 0. 0. 0. 0. 0. 0.\n",
      " 0. 0. 0. 0. 0. 0. 0. 0. 0. 0. 0. 0. 0. 0. 0. 0. 0. 0. 0. 0. 0. 0. 0. 0.\n",
      " 0. 0. 0. 0. 0. 0. 0. 0. 0. 0. 0. 0. 0. 0. 0. 0. 0. 0. 0. 0. 0. 0. 0. 0.\n",
      " 0. 0. 0. 0. 0. 0. 0. 0. 0. 0. 0. 0. 0. 0. 0. 0. 0. 0. 0. 0. 0. 0. 0. 0.\n",
      " 0. 0. 0. 0. 0. 0. 0. 0. 0. 0. 0. 0. 0. 0. 0. 0. 0. 0. 0. 0. 0. 0. 0. 0.\n",
      " 0. 0. 0. 0. 0. 0. 0. 0. 0. 0. 0. 0. 0. 0. 0. 0. 0. 0. 0. 0. 0. 0. 0. 0.\n",
      " 0. 0. 0. 0. 0. 0. 0. 0. 0. 0. 0. 0. 0. 0. 0. 0. 0. 0. 0. 0. 0. 0. 0. 0.\n",
      " 0. 0. 0. 0. 0. 0. 0. 0. 0. 0. 0. 0. 0. 0. 0. 0. 0. 0. 0. 0. 0. 0. 0. 0.\n",
      " 0. 0. 0. 0. 0. 0. 0. 0. 0. 0. 0. 0. 0. 0. 0. 0. 0. 0. 0. 0. 0. 0. 0. 0.\n",
      " 0. 0. 0. 0. 0. 0. 0. 0. 0. 0. 0. 0. 0. 0. 0. 0. 0. 0. 0. 0. 0. 0. 0. 0.\n",
      " 0. 0. 0. 0. 0. 0. 0. 0. 0. 0. 0. 0. 0. 0. 0. 0. 0. 0. 0. 0. 0. 0. 0. 0.\n",
      " 0. 0. 0. 0. 0. 0. 0. 0. 0. 0. 0. 0. 0. 0. 0. 0.]\n",
      "{'positions': array([[-0.27524355, -0.03280041,  0.00554221, ..., -0.95092198,\n",
      "        -0.23789067, -0.62771883],\n",
      "       [ 0.96714661,  0.5983626 ,  0.88033861, ...,  0.99210965,\n",
      "         0.84512519,  0.98303298],\n",
      "       [ 0.09375669,  0.4433065 ,  0.06948723, ...,  0.33068149,\n",
      "         0.45954548,  0.39720517]]), 'weights': array([0.0001, 0.0001, 0.0001, ..., 0.0001, 0.0001, 0.0001])}\n",
      "-0.10097135385462579\n"
     ]
    }
   ],
   "source": [
    "c = Optimize(10000, 5, 200)\n",
    "print(c[-1])\n",
    "print(np.mean(c[-1][\"positions\"][0]))"
   ]
  },
  {
   "cell_type": "code",
   "execution_count": 140,
   "metadata": {},
   "outputs": [
    {
     "data": {
      "text/plain": [
       "(array([  82.,    0.,    0.,  161.,  473., 1365.,  339.,  347.,   38.,\n",
       "         195.]),\n",
       " array([-0.68715863, -0.55753633, -0.42791403, -0.29829174, -0.16866944,\n",
       "        -0.03904714,  0.09057516,  0.22019746,  0.34981975,  0.47944205,\n",
       "         0.60906435]),\n",
       " <a list of 10 Patch objects>)"
      ]
     },
     "execution_count": 140,
     "metadata": {},
     "output_type": "execute_result"
    },
    {
     "data": {
      "image/png": "[encoded data removed]",
      "text/plain": [
       "<matplotlib.figure.Figure at 0x7fab2d3aa588>"
      ]
     },
     "metadata": {},
     "output_type": "display_data"
    }
   ],
   "source": [
    "plt.hist(c[-1][\"positions\"][0])"
   ]
  },
  {
   "cell_type": "code",
   "execution_count": null,
   "metadata": {},
   "outputs": [],
   "source": []
  }
 ],
 "metadata": {
  "kernelspec": {
   "display_name": "Python 3",
   "language": "python",
   "name": "python3"
  },
  "language_info": {
   "codemirror_mode": {
    "name": "ipython",
    "version": 3
   },
   "file_extension": ".py",
   "mimetype": "text/x-python",
   "name": "python",
   "nbconvert_exporter": "python",
   "pygments_lexer": "ipython3",
   "version": "3.6.5"
  }
 },
 "nbformat": 4,
 "nbformat_minor": 2
}
