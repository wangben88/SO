{
 "cells": [
  {
   "cell_type": "markdown",
   "metadata": {},
   "source": [
    "Stochastic Optimization demo."
   ]
  },
  {
   "cell_type": "code",
   "execution_count": 2,
   "metadata": {},
   "outputs": [],
   "source": [
    "import numpy as np\n",
    "import matplotlib.pyplot as plt"
   ]
  },
  {
   "cell_type": "markdown",
   "metadata": {},
   "source": [
    "I apply stochastic optimization to the simple 1D problem of minimizing $Bx^2$. With step size h, this results in the gradient descent step:\n",
    "\n",
    "$$x_i = (1-hB)x_{i-1}$$\n",
    "\n",
    "The statistical model used for the x iterates is:\n",
    "\n",
    "$$x_i = \\mu + A(x_{i-1} - \\mu) + Z_i$$ \n",
    "\n",
    "where $\\mu$ is the optimal value of x (which is 0) and $Z_i$ is Gaussian noise. It would make sense that as our posterior updates continually, the mean for $\\mu$ should converge to 0, and the mean of $A$ should converge to $1-hB$. Both variances should decrease as we receive more data."
   ]
  },
  {
   "cell_type": "markdown",
   "metadata": {},
   "source": [
    "I maintain a dictionary containing the iterates for x, mu, A and Sigma (I don't actually update Sigma in the code below, just keep it constant). mu, A and Sigma are all N\\*2 numpy arrays with the first column being the sequence of means for the parameter and the second the sequence of variances."
   ]
  },
  {
   "cell_type": "code",
   "execution_count": 3,
   "metadata": {},
   "outputs": [],
   "source": [
    "def Optimize(B, prior_mu, prior_A, prior_sigma, num_iterations, h):\n",
    "    \n",
    "    Iterates_dict = {}\n",
    "    Iterates_dict[\"x\"] = np.zeros(num_iterations)\n",
    "    Iterates_dict[\"x\"][0] = 0.5\n",
    "    Iterates_dict[\"mu\"] = np.zeros((num_iterations, 2))\n",
    "    Iterates_dict[\"mu\"][0] = prior_mu\n",
    "    Iterates_dict[\"A\"] = np.zeros((num_iterations, 2))\n",
    "    Iterates_dict[\"A\"][0] = prior_A\n",
    "    Iterates_dict[\"Sigma\"] = np.zeros((num_iterations, 2))\n",
    "    Iterates_dict[\"Sigma\"][0] = prior_sigma\n",
    "    \n",
    "    \n",
    "    for i in range(1, num_iterations):\n",
    "        x_prev = Iterates_dict[\"x\"][i-1]\n",
    "        x_curr = x_prev - h*(12*x_prev**5 + 15*x_prev**4 - 4*x_prev**3 - 15*x_prev**2 -8*x_prev + 3)\n",
    "        Iterates_dict[\"x\"][i] = x_curr\n",
    "        \n",
    "        mu = Iterates_dict[\"mu\"][i-1]\n",
    "        A = Iterates_dict[\"A\"][i-1]\n",
    "        Sigma = Iterates_dict[\"Sigma\"][i-1]\n",
    "        Iterates_dict[\"mu\"][i] = mu\n",
    "        Iterates_dict[\"A\"][i] = A\n",
    "        Iterates_dict[\"Sigma\"][i] = (prior_sigma[0]*np.exp(-i*0.0001), 0) #decay\n",
    "        \n",
    "        # Switch between updating mu and updating A. First line is posterior mean update, second line is posterior variance\n",
    "        # update.\n",
    "        Iterates_dict[\"mu\"][i, 0] = (Sigma[0]*mu[0] + mu[1]*A[1]*x_prev + mu[1]*(1-A[0])*(x_curr - A[0]*x_prev))/(Sigma[0]+mu[1]*A[1]+mu[1]*(1-A[0])**2)\n",
    "        Iterates_dict[\"mu\"][i, 1] = (mu[1]*Sigma[0])/(Sigma[0]+mu[1]*A[1]+mu[1]*(1-A[0])**2)\n",
    "        mu = Iterates_dict[\"mu\"][i]\n",
    "        \n",
    "        Iterates_dict[\"A\"][i, 0] = (Sigma[0]*A[0] + A[1]*mu[1] + A[1]*(x_prev-mu[0])*(x_curr-mu[0]))/(Sigma[0]+A[1]*mu[1]+A[1]*(x_prev-mu[0])**2)\n",
    "        Iterates_dict[\"A\"][i, 1] = (A[1]*Sigma[0])/(Sigma[0]+A[1]*mu[1]+A[1]*(x_prev-mu[0])**2)\n",
    "            \n",
    "    return Iterates_dict"
   ]
  },
  {
   "cell_type": "code",
   "execution_count": 14,
   "metadata": {},
   "outputs": [],
   "source": [
    "B = np.random.uniform(0, 1) # optimization objective is B(x-0.1)^2\n",
    "B = 1\n",
    "h = 0.13\n",
    "Iterates = Optimize(B, (-0.9, 0.5), (0.5, 0.5), (0.5, 0.5), 1000, h) #Priors of mean 0.5, variance 0.5 on all parameters."
   ]
  },
  {
   "cell_type": "markdown",
   "metadata": {},
   "source": [
    "We can see how the iterates for x (gradient descent), $\\mu$ and $A$ (posterior updating) vary:"
   ]
  },
  {
   "cell_type": "code",
   "execution_count": 15,
   "metadata": {},
   "outputs": [
    {
     "name": "stdout",
     "output_type": "stream",
     "text": [
      "[  5.00000000e-01   1.01187500e+00   5.10419230e-01   1.04203194e+00\n",
      "   2.25782253e-01   1.70004463e-01   1.38716681e-02  -3.61325257e-01\n",
      "  -9.20679318e-01  -1.39021104e+00  -3.74350109e-02  -4.63665725e-01\n",
      "  -1.02518591e+00  -1.37960427e+00  -1.25941217e-01  -6.17470651e-01\n",
      "  -1.17202369e+00  -1.16902554e+00  -1.17658338e+00  -1.15721484e+00\n",
      "  -1.20478947e+00  -1.07526973e+00  -1.33981790e+00  -4.21910808e-01\n",
      "  -9.83569017e-01  -1.39380296e+00  -6.49626716e-03  -4.03170238e-01\n",
      "  -9.64483645e-01  -1.39556038e+00   8.82210215e-03  -3.71850799e-01\n",
      "  -9.31871999e-01  -1.39270497e+00  -1.60063129e-02  -4.22155543e-01\n",
      "  -9.83816395e-01  -1.39376195e+00  -6.85232797e-03  -4.03887360e-01\n",
      "  -9.65219390e-01  -1.39554243e+00   8.66499243e-03  -3.72176678e-01\n",
      "  -9.32216527e-01  -1.39277022e+00  -1.54424868e-02  -4.21039680e-01\n",
      "  -9.82688112e-01  -1.39394510e+00  -5.26181090e-03  -4.00680183e-01\n",
      "  -9.61925380e-01  -1.39559293e+00   9.10694201e-03  -3.71259733e-01\n",
      "  -9.31246807e-01  -1.39258478e+00  -1.70445197e-02  -4.24207052e-01\n",
      "  -9.85888276e-01  -1.39339943e+00  -9.99677123e-03  -4.10199078e-01\n",
      "  -9.71675817e-01  -1.39521725e+00   5.82186203e-03  -3.78057208e-01\n",
      "  -9.38413659e-01  -1.39382221e+00  -6.32910793e-03  -4.02833403e-01\n",
      "  -9.64137905e-01  -1.39556749e+00   8.88428539e-03  -3.71721791e-01\n",
      "  -9.31735575e-01  -1.39267894e+00  -1.62312053e-02  -4.22600285e-01\n",
      "  -9.84265823e-01  -1.39368620e+00  -7.50976614e-03  -4.05210176e-01\n",
      "  -9.66575376e-01  -1.39549919e+00   8.28673271e-03  -3.72960872e-01\n",
      "  -9.33045118e-01  -1.39292425e+00  -1.41107730e-02  -4.18399242e-01\n",
      "  -9.80014465e-01  -1.39433933e+00  -1.83375227e-03  -3.93734301e-01\n",
      "  -9.54759400e-01  -1.39544166e+00   7.78355245e-03  -3.74003177e-01\n",
      "  -9.34145386e-01  -1.39312246e+00  -1.23957900e-02  -4.14988819e-01\n",
      "  -9.76553048e-01  -1.39476770e+00   1.89799516e-03  -3.86121062e-01\n",
      "  -9.46852262e-01  -1.39487333e+00   2.81930525e-03  -3.84233106e-01\n",
      "  -9.44882555e-01  -1.39466829e+00   1.03136574e-03  -3.87893939e-01\n",
      "  -9.48698654e-01  -1.39504281e+00   4.29837227e-03  -3.81195252e-01\n",
      "  -9.41705531e-01  -1.39428552e+00  -2.30196330e-03  -3.94685678e-01\n",
      "  -9.55743576e-01  -1.39548327e+00   8.14744903e-03  -3.73249489e-01\n",
      "  -9.33349904e-01  -1.39297988e+00  -1.36295880e-02  -4.17443500e-01\n",
      "  -9.79045361e-01  -1.39446853e+00  -7.08970934e-04  -3.91445321e-01\n",
      "  -9.52387978e-01  -1.39531465e+00   6.67302293e-03  -3.76300051e-01\n",
      "  -9.36565814e-01  -1.39353286e+00  -8.83999713e-03  -4.07881581e-01\n",
      "  -9.69309146e-01  -1.39537169e+00   7.17166793e-03  -3.75269317e-01\n",
      "  -9.35480342e-01  -1.39335319e+00  -1.03975046e-02  -4.11000706e-01\n",
      "  -9.72493404e-01  -1.39515430e+00   5.27188580e-03  -3.79191082e-01\n",
      "  -9.39604311e-01  -1.39399755e+00  -4.80605211e-03  -3.99759364e-01\n",
      "  -9.60977930e-01  -1.39559330e+00   9.11015224e-03  -3.71253070e-01\n",
      "  -9.31239757e-01  -1.39258341e+00  -1.70563379e-02  -4.24230381e-01\n",
      "  -9.85911819e-01  -1.39339512e+00  -1.00341716e-02  -4.10273920e-01\n",
      "  -9.71752172e-01  -1.39521158e+00   5.77232521e-03  -3.78159385e-01\n",
      "  -9.38521009e-01  -1.39383838e+00  -6.18872460e-03  -4.02550439e-01\n",
      "  -9.63847384e-01  -1.39557280e+00   8.93079398e-03  -3.71625292e-01\n",
      "  -9.31633518e-01  -1.39265939e+00  -1.64000508e-02  -4.22934061e-01\n",
      "  -9.84603018e-01  -1.39362832e+00  -8.01198102e-03  -4.06219543e-01\n",
      "  -9.67609029e-01  -1.39545735e+00   7.92073652e-03  -3.73719108e-01\n",
      "  -9.33845638e-01  -1.39306918e+00  -1.28569448e-02  -4.15906988e-01\n",
      "  -9.77485856e-01  -1.39466129e+00   9.70304183e-04  -3.88018743e-01\n",
      "  -9.48828515e-01  -1.39505390e+00   4.39515995e-03  -3.80996161e-01\n",
      "  -9.41496987e-01  -1.39425817e+00  -2.53992297e-03  -3.95168872e-01\n",
      "  -9.56243101e-01  -1.39550187e+00   8.31020714e-03  -3.72912222e-01\n",
      "  -9.32993734e-01  -1.39291482e+00  -1.41923573e-02  -4.18561199e-01\n",
      "  -9.80178614e-01  -1.39431672e+00  -2.03045903e-03  -3.94134101e-01\n",
      "  -9.55173088e-01  -1.39545995e+00   7.94348361e-03  -3.73671998e-01\n",
      "  -9.33795919e-01  -1.39306029e+00  -1.29338754e-02  -4.16060079e-01\n",
      "  -9.77641322e-01  -1.39464291e+00   8.10114967e-04  -3.88346085e-01\n",
      "  -9.49169049e-01  -1.39508245e+00   4.64442294e-03  -3.80483263e-01\n",
      "  -9.40959546e-01  -1.39418644e+00  -3.16394478e-03  -3.96434943e-01\n",
      "  -9.57550927e-01  -1.39554254e+00   8.66596514e-03  -3.72174661e-01\n",
      "  -9.32214395e-01  -1.39276981e+00  -1.54459583e-02  -4.21046554e-01\n",
      "  -9.82695065e-01  -1.39394400e+00  -5.27135088e-03  -4.00699449e-01\n",
      "  -9.61945196e-01  -1.39559285e+00   9.10628736e-03  -3.71261092e-01\n",
      "  -9.31248245e-01  -1.39258506e+00  -1.70421099e-02  -4.24202295e-01\n",
      "  -9.85883476e-01  -1.39340031e+00  -9.98914980e-03  -4.10183826e-01\n",
      "  -9.71660256e-01  -1.39521840e+00   5.83191135e-03  -3.78036478e-01\n",
      "  -9.38391879e-01  -1.39381893e+00  -6.35766416e-03  -4.02890953e-01\n",
      "  -9.64196984e-01  -1.39556633e+00   8.87418630e-03  -3.71742744e-01\n",
      "  -9.31757734e-01  -1.39268317e+00  -1.61946141e-02  -4.22527936e-01\n",
      "  -9.84192722e-01  -1.39369863e+00  -7.40190348e-03  -4.04993263e-01\n",
      "  -9.66353129e-01  -1.39550718e+00   8.35663483e-03  -3.72815996e-01\n",
      "  -9.32892091e-01  -1.39289611e+00  -1.43541283e-02  -4.18882261e-01\n",
      "  -9.80503964e-01  -1.39427131e+00  -2.42564424e-03  -3.94936848e-01\n",
      "  -9.56003263e-01  -1.39549315e+00   8.23391008e-03  -3.73070337e-01\n",
      "  -9.33160727e-01  -1.39294542e+00  -1.39277038e-02  -4.18035730e-01\n",
      "  -9.79645956e-01  -1.39438931e+00  -1.39868818e-03  -3.92849510e-01\n",
      "  -9.53843336e-01  -1.39539707e+00   7.39356245e-03  -3.74810332e-01\n",
      "  -9.34996612e-01  -1.39327082e+00  -1.11110892e-02  -4.12426625e-01\n",
      "  -9.73946395e-01  -1.39503014e+00   4.18772952e-03  -3.81422797e-01\n",
      "  -9.41943830e-01  -1.39431644e+00  -2.03291907e-03  -3.94139100e-01\n",
      "  -9.55178259e-01  -1.39546017e+00   7.94541907e-03  -3.73667989e-01\n",
      "  -9.33791688e-01  -1.39305953e+00  -1.29404272e-02  -4.16073116e-01\n",
      "  -9.77654560e-01  -1.39464133e+00   7.96400700e-04  -3.88374106e-01\n",
      "  -9.49198194e-01  -1.39508486e+00   4.66545008e-03  -3.80439985e-01\n",
      "  -9.40914184e-01  -1.39418030e+00  -3.21732250e-03  -3.96543171e-01\n",
      "  -9.57662654e-01  -1.39554547e+00   8.69161787e-03  -3.72121458e-01\n",
      "  -9.32158156e-01  -1.39275921e+00  -1.55375970e-02  -4.21227998e-01\n",
      "  -9.82878592e-01  -1.39391488e+00  -5.52431705e-03  -4.01210186e-01\n",
      "  -9.62470366e-01  -1.39558987e+00   9.08013985e-03  -3.71315363e-01\n",
      "  -9.31305666e-01  -1.39259619e+00  -1.69459512e-02  -4.24012457e-01\n",
      "  -9.85691885e-01  -1.39343526e+00  -9.68624582e-03  -4.09577476e-01\n",
      "  -9.71041469e-01  -1.39526269e+00   6.21889795e-03  -3.77237910e-01\n",
      "  -9.37552488e-01  -1.39368996e+00  -7.47713420e-03  -4.05144558e-01\n",
      "  -9.66508149e-01  -1.39550164e+00   8.30820512e-03  -3.72916371e-01\n",
      "  -9.32998116e-01  -1.39291562e+00  -1.41853939e-02  -4.18547376e-01\n",
      "  -9.80164605e-01  -1.39431866e+00  -2.01360181e-03  -3.94099846e-01\n",
      "  -9.55137648e-01  -1.39545843e+00   7.93017808e-03  -3.73699554e-01\n",
      "  -9.33825002e-01  -1.39306549e+00  -1.28888601e-02  -4.15970502e-01\n",
      "  -9.77550357e-01  -1.39465368e+00   9.04036752e-04  -3.88154171e-01\n",
      "  -9.48969414e-01  -1.39506580e+00   4.49909235e-03  -3.80782333e-01\n",
      "  -9.41272960e-01  -1.39422849e+00  -2.79815535e-03  -3.95692981e-01\n",
      "  -9.56784676e-01  -1.39552013e+00   8.46990724e-03  -3.72581192e-01\n",
      "  -9.32644027e-01  -1.39285020e+00  -1.47511144e-02  -4.19669723e-01\n",
      "  -9.81301599e-01  -1.39415649e+00  -3.42438173e-03  -3.96962893e-01\n",
      "  -9.58095848e-01  -1.39555603e+00   8.78399988e-03  -3.71929840e-01\n",
      "  -9.31955574e-01  -1.39272086e+00  -1.58689974e-02  -4.21883896e-01\n",
      "  -9.83541812e-01  -1.39380744e+00  -6.45736171e-03  -4.03091851e-01\n",
      "  -9.64403195e-01  -1.39556211e+00   8.83723535e-03  -3.71819404e-01\n",
      "  -9.31838801e-01  -1.39269864e+00  -1.60609534e-02  -4.22263617e-01\n",
      "  -9.83925621e-01  -1.39374369e+00  -7.01085388e-03  -4.04206479e-01\n",
      "  -9.65546652e-01  -1.39553320e+00   8.58424871e-03  -3.72344120e-01\n",
      "  -9.32393506e-01  -1.39280346e+00  -1.51551604e-02  -4.20470565e-01\n",
      "  -9.82112295e-01  -1.39403471e+00  -4.48307903e-03  -3.99106338e-01\n",
      "  -9.60305552e-01  -1.39558975e+00   9.07914530e-03  -3.71317428e-01\n",
      "  -9.31307850e-01  -1.39259661e+00  -1.69422972e-02  -4.24005243e-01\n",
      "  -9.85684603e-01  -1.39343658e+00  -9.67478246e-03  -4.09554521e-01\n",
      "  -9.71018038e-01  -1.39526431e+00   6.23306783e-03  -3.77208659e-01\n",
      "  -9.37521728e-01  -1.39368515e+00  -7.51885694e-03  -4.05228456e-01\n",
      "  -9.66594104e-01  -1.39549850e+00   8.28070062e-03  -3.72973373e-01\n",
      "  -9.33058322e-01  -1.39292667e+00  -1.40898314e-02  -4.18357666e-01\n",
      "  -9.79972322e-01  -1.39434510e+00  -1.78354086e-03  -3.93632223e-01\n",
      "  -9.54653752e-01  -1.39543681e+00   7.74109232e-03  -3.74091085e-01\n",
      "  -9.34238128e-01  -1.39313883e+00  -1.22540315e-02  -4.14706410e-01\n",
      "  -9.76265999e-01  -1.39479912e+00   2.17194843e-03  -3.85560021e-01\n",
      "  -9.46267303e-01  -1.39481504e+00   2.31083847e-03  -3.85275470e-01\n",
      "  -9.45970500e-01  -1.39478462e+00   2.04555509e-03  -3.85818904e-01\n",
      "  -9.46537262e-01  -1.39484222e+00   2.54786860e-03  -3.84789681e-01\n",
      "  -9.45463605e-01  -1.39473136e+00   1.58117676e-03  -3.86769522e-01\n",
      "  -9.47527975e-01  -1.39493792e+00   3.38283664e-03  -3.83076678e-01\n",
      "  -9.43674266e-01  -1.39453024e+00  -1.71480585e-04  -3.90349763e-01\n",
      "  -9.51251179e-01  -1.39524046e+00   6.02463701e-03  -3.77638852e-01\n",
      "  -9.37974011e-01  -1.39375526e+00  -6.91035377e-03  -4.04004179e-01\n",
      "  -9.65339201e-01  -1.39553914e+00   8.63620920e-03  -3.72236370e-01\n",
      "  -9.32279623e-01  -1.39278209e+00  -1.53398715e-02  -4.20836464e-01\n",
      "  -9.82482531e-01  -1.39397739e+00  -4.98122932e-03  -4.00113389e-01\n",
      "  -9.61342285e-01  -1.39559390e+00   9.11542289e-03  -3.71242130e-01\n",
      "  -9.31228181e-01  -1.39258116e+00  -1.70757471e-02  -4.24268694e-01\n",
      "  -9.85950481e-01  -1.39338802e+00  -1.00956727e-02  -4.10396978e-01\n",
      "  -9.71877707e-01  -1.39520217e+00   5.69006444e-03  -3.78329040e-01\n",
      "  -9.38699227e-01  -1.39386506e+00  -5.95700302e-03  -4.02083201e-01\n",
      "  -9.63367511e-01  -1.39558027e+00   8.99615065e-03  -3.71489672e-01\n",
      "  -9.31490068e-01  -1.39263182e+00  -1.66382508e-02  -4.23404753e-01\n",
      "  -9.85078387e-01  -1.39354519e+00  -8.73304761e-03  -4.07667056e-01\n",
      "  -9.69089838e-01  -1.39538392e+00   7.27861346e-03  -3.75048126e-01\n",
      "  -9.35247255e-01  -1.39331368e+00  -1.07398531e-02  -4.11685049e-01\n",
      "  -9.73190949e-01  -1.39509666e+00   4.76849777e-03  -3.80227869e-01\n",
      "  -9.40691828e-01  -1.39415003e+00  -3.48056777e-03  -3.97076757e-01\n",
      "  -9.58213338e-01  -1.39555867e+00   8.80711262e-03  -3.71881895e-01\n",
      "  -9.31904879e-01  -1.39271123e+00  -1.59522487e-02  -4.22048598e-01\n",
      "  -9.83708301e-01  -1.39377993e+00  -6.69623633e-03  -4.03573045e-01\n",
      "  -9.64896968e-01  -1.39555077e+00   8.73799766e-03  -3.72025262e-01\n",
      "  -9.32056460e-01  -1.39273999e+00  -1.57037032e-02  -4.21556803e-01\n",
      "  -9.83211109e-01  -1.39386145e+00  -5.98841490e-03  -4.02146551e-01\n",
      "  -9.63432586e-01  -1.39557935e+00   8.98812376e-03  -3.71506329e-01\n",
      "  -9.31507688e-01  -1.39263521e+00  -1.66089374e-02  -4.23346840e-01\n",
      "  -9.85019908e-01  -1.39355552e+00  -8.64351883e-03  -4.07487440e-01\n",
      "  -9.68906188e-01  -1.39539389e+00   7.36581435e-03  -3.74867739e-01\n",
      "  -9.35057127e-01  -1.39328120e+00  -1.10211649e-02  -4.12247042e-01\n",
      "  -9.73763495e-01  -1.39504664e+00   4.33174053e-03  -3.81126618e-01\n",
      "  -9.41633643e-01  -1.39427613e+00  -2.38372699e-03  -3.94851730e-01\n",
      "  -9.55915265e-01  -1.39548985e+00   8.20505977e-03  -3.73130120e-01\n",
      "  -9.33223859e-01  -1.39295694e+00  -1.38280167e-02  -4.17837732e-01\n",
      "  -9.79445192e-01  -1.39441610e+00  -1.16546613e-03  -3.92374903e-01\n",
      "  -9.53351646e-01  -1.39537081e+00   7.16394908e-03  -3.75285280e-01\n",
      "  -9.35497161e-01  -1.39335603e+00  -1.03729088e-02  -4.10951522e-01\n",
      "  -9.72443257e-01  -1.39515830e+00   5.30686165e-03  -3.79119009e-01\n",
      "  -9.39528669e-01  -1.39398667e+00  -4.90058413e-03  -3.99950423e-01\n",
      "  -9.61174578e-01  -1.39559374e+00   9.11400531e-03  -3.71245072e-01\n",
      "  -9.31231295e-01  -1.39258176e+00  -1.70705262e-02  -4.24258388e-01\n",
      "  -9.85940081e-01  -1.39338993e+00  -1.00791198e-02  -4.10363859e-01\n",
      "  -9.71843922e-01  -1.39520471e+00   5.71230295e-03  -3.78283178e-01\n",
      "  -9.38651053e-01  -1.39385787e+00  -6.01947474e-03  -4.02209188e-01\n",
      "  -9.63496924e-01  -1.39557842e+00   8.97993003e-03  -3.71523333e-01\n",
      "  -9.31525674e-01  -1.39263867e+00  -1.65790316e-02  -4.23287754e-01\n",
      "  -9.84960241e-01  -1.39356602e+00  -8.55240985e-03  -4.07304621e-01\n",
      "  -9.68719236e-01  -1.39540379e+00   7.45237927e-03  -3.74688638e-01\n",
      "  -9.34868319e-01  -1.39324874e+00  -1.13023511e-02  -4.12808479e-01\n",
      "  -9.74335215e-01  -1.39499424e+00   3.87434917e-03  -3.82067027e-01\n",
      "  -9.42618215e-01  -1.39440201e+00  -1.28814866e-03  -3.92624589e-01\n",
      "  -9.53610345e-01  -1.39538483e+00   7.28652117e-03  -3.75031769e-01\n",
      "  -9.35230016e-01  -1.39331074e+00  -1.07652832e-02  -4.11735864e-01\n",
      "  -9.73242730e-01  -1.39509223e+00   4.72987286e-03  -3.80307381e-01\n",
      "  -9.40775183e-01  -1.39416141e+00  -3.38157424e-03  -3.96876133e-01\n",
      "  -9.58006317e-01  -1.39555395e+00   8.76583029e-03  -3.71967530e-01\n",
      "  -9.31995424e-01  -1.39272842e+00  -1.58036466e-02  -4.21754589e-01\n",
      "  -9.83411087e-01  -1.39382889e+00  -6.27111016e-03  -4.02716509e-01\n",
      "  -9.64017898e-01  -1.39556975e+00   8.90413228e-03  -3.71680612e-01\n",
      "  -9.31692026e-01  -1.39267061e+00  -1.63031906e-02  -4.22742600e-01\n",
      "  -9.84409606e-01  -1.39366163e+00  -7.72297557e-03  -4.05638810e-01\n",
      "  -9.67014432e-01  -1.39548236e+00   8.13950336e-03  -3.73265951e-01\n",
      "  -9.33367286e-01  -1.39298304e+00  -1.36022871e-02  -4.17389247e-01\n",
      "  -9.78990329e-01  -1.39447565e+00  -6.46970153e-04  -3.91319003e-01\n",
      "  -9.52256965e-01  -1.39530654e+00   6.60211105e-03  -3.76446551e-01\n",
      "  -9.36720002e-01  -1.39355780e+00  -8.62369095e-03  -4.07447656e-01\n",
      "  -9.68865507e-01  -1.39539607e+00   7.38484011e-03  -3.74828378e-01\n",
      "  -9.35015635e-01  -1.39327409e+00  -1.10828012e-02  -4.12370136e-01\n",
      "  -9.73888865e-01  -1.39503536e+00   4.23326157e-03  -3.81329163e-01\n",
      "  -9.41845777e-01  -1.39430376e+00  -2.14325207e-03  -3.94363282e-01\n",
      "  -9.55410161e-01  -1.39546991e+00   8.03058174e-03  -3.73491596e-01\n",
      "  -9.33605505e-01  -1.39302610e+00  -1.32296626e-02  -4.16648478e-01\n",
      "  -9.78238676e-01  -1.39457056e+00   1.79759625e-04  -3.89633227e-01\n",
      "  -9.50507040e-01  -1.39518726e+00   5.55985831e-03  -3.78597523e-01\n",
      "  -9.38981200e-01  -1.39390688e+00  -5.59379418e-03  -4.01350416e-01\n",
      "  -9.62614518e-01  -1.39558871e+00   9.06999346e-03  -3.71336422e-01\n",
      "  -9.31327946e-01  -1.39260051e+00  -1.69086842e-02  -4.23938875e-01\n",
      "  -9.85617616e-01  -1.39344872e+00  -9.56949576e-03  -4.09343672e-01\n",
      "  -9.70802787e-01  -1.39527902e+00   6.36159027e-03  -3.76943309e-01\n",
      "  -9.37242655e-01  -1.39364127e+00  -7.89964795e-03  -4.05993857e-01\n",
      "  -9.67377990e-01  -1.39546737e+00   8.00839337e-03  -3.73537557e-01\n",
      "  -9.33654020e-01  -1.39303483e+00  -1.31541266e-02  -4.16498249e-01\n",
      "  -9.78086187e-01  -1.39458929e+00   3.42915480e-04  -3.89300223e-01\n",
      "  -9.50161036e-01  -1.39516128e+00   5.33292854e-03  -3.79065290e-01\n",
      "  -9.39472287e-01  -1.39397854e+00  -4.97124291e-03  -4.00093210e-01\n",
      "  -9.61321520e-01  -1.39559389e+00   9.11534072e-03  -3.71242300e-01\n",
      "  -9.31228362e-01  -1.39258120e+00  -1.70754445e-02  -4.24268096e-01\n",
      "  -9.85949878e-01  -1.39338813e+00  -1.00947131e-02  -4.10395058e-01\n",
      "  -9.71875749e-01  -1.39520231e+00   5.69135566e-03  -3.78326377e-01\n",
      "  -9.38696430e-01  -1.39386465e+00  -5.96062680e-03  -4.02090510e-01\n",
      "  -9.63375019e-01  -1.39558017e+00   8.99523797e-03  -3.71491566e-01\n",
      "  -9.31492071e-01  -1.39263220e+00  -1.66349169e-02  -4.23398167e-01\n",
      "  -9.85071737e-01  -1.39354637e+00  -8.72285419e-03  -4.07646607e-01\n",
      "  -9.69068931e-01  -1.39538507e+00   7.28864871e-03  -3.75027368e-01\n",
      "  -9.35225378e-01  -1.39330995e+00  -1.07721278e-02  -4.11749541e-01\n",
      "  -9.73256666e-01  -1.39509104e+00   4.71944774e-03  -3.80328840e-01\n",
      "  -9.40797679e-01  -1.39416448e+00  -3.35492151e-03  -3.96822112e-01\n",
      "  -9.57950566e-01  -1.39555263e+00   8.75427283e-03  -3.71991503e-01\n",
      "  -9.32020770e-01  -1.39273323e+00  -1.57621213e-02  -4.21672416e-01\n",
      "  -9.83328007e-01  -1.39384246e+00  -6.15333858e-03  -4.02479101e-01\n",
      "  -9.63774129e-01  -1.39557405e+00   8.94169408e-03  -3.71602675e-01\n",
      "  -9.31609596e-01  -1.39265480e+00  -1.64397021e-02  -4.23012429e-01\n",
      "  -9.84682176e-01  -1.39361460e+00  -8.13099156e-03  -4.06458590e-01\n",
      "  -9.67853700e-01  -1.39544631e+00   7.82422819e-03  -3.73918957e-01\n",
      "  -9.34056527e-01  -1.39310672e+00  -1.25320232e-02  -4.15260148e-01\n",
      "  -9.76828773e-01  -1.39473694e+00   1.62974761e-03  -3.86670133e-01\n",
      "  -9.47424437e-01  -1.39492822e+00   3.29814867e-03  -3.83250547e-01\n",
      "  -9.43856019e-01  -1.39455160e+00   1.45697230e-05  -3.89970277e-01\n",
      "  -9.50857137e-01  -1.39521274e+00   5.78248739e-03  -3.78138425e-01\n",
      "  -9.38498989e-01  -1.39383507e+00  -6.21747177e-03  -4.02608389e-01\n",
      "  -9.63906888e-01  -1.39557176e+00   8.92169487e-03  -3.71644172e-01\n",
      "  -9.31653486e-01  -1.39266322e+00  -1.63669740e-02  -4.22868683e-01\n",
      "  -9.84536977e-01  -1.39363973e+00  -7.91301518e-03  -4.06020715e-01\n",
      "  -9.67405488e-01  -1.39546620e+00   7.99813747e-03  -3.73558800e-01\n",
      "  -9.33676443e-01  -1.39303886e+00  -1.31192548e-02  -4.16428887e-01\n",
      "  -9.78015776e-01  -1.39459788e+00   4.17733143e-04  -3.89147484e-01\n",
      "  -9.50002298e-01  -1.39514910e+00   5.22652665e-03  -3.79284546e-01\n",
      "  -9.39702394e-01  -1.39401160e+00  -4.68392743e-03  -3.99512485e-01\n",
      "  -9.60723781e-01  -1.39559233e+00   9.10167327e-03  -3.71270669e-01\n",
      "  -9.31258378e-01  -1.39258702e+00  -1.70251288e-02  -4.24168773e-01]\n",
      "[[ -9.00000000e-01   5.00000000e-01]\n",
      " [ -1.53750000e-01   2.85714286e-01]\n",
      " [ -6.18123719e-03   2.43757889e-01]\n",
      " ..., \n",
      " [ -6.85804433e-01   5.16576700e-04]\n",
      " [ -6.85051763e-01   5.15890409e-04]\n",
      " [ -6.84663648e-01   5.15203940e-04]]\n",
      "[[ 0.5         0.5       ]\n",
      " [ 0.90347242  0.29186797]\n",
      " [ 0.77419768  0.16703259]\n",
      " ..., \n",
      " [-0.07881063  0.00159913]\n",
      " [-0.0803367   0.00159631]\n",
      " [-0.07959606  0.0015938 ]]\n",
      "[[ 0.5         0.5       ]\n",
      " [ 0.49995     0.        ]\n",
      " [ 0.49990001  0.        ]\n",
      " ..., \n",
      " [ 0.45255445  0.        ]\n",
      " [ 0.4525092   0.        ]\n",
      " [ 0.45246395  0.        ]]\n"
     ]
    }
   ],
   "source": [
    "print(Iterates[\"x\"])\n",
    "print(Iterates[\"mu\"])\n",
    "print(Iterates[\"A\"])\n",
    "print(Iterates[\"Sigma\"])"
   ]
  },
  {
   "cell_type": "markdown",
   "metadata": {},
   "source": [
    "And plot how the posterior mean for $\\mu$ changes:"
   ]
  },
  {
   "cell_type": "code",
   "execution_count": 59,
   "metadata": {},
   "outputs": [
    {
     "data": {
      "text/plain": [
       "[<matplotlib.lines.Line2D at 0xb074930>]"
      ]
     },
     "execution_count": 59,
     "metadata": {},
     "output_type": "execute_result"
    },
    {
     "data": {
      "image/png": "[encoded data removed]",
      "text/plain": [
       "<matplotlib.figure.Figure at 0xb024970>"
      ]
     },
     "metadata": {},
     "output_type": "display_data"
    }
   ],
   "source": [
    "plt.plot(Iterates[\"mu\"][:, 0])"
   ]
  },
  {
   "cell_type": "markdown",
   "metadata": {},
   "source": [
    "We can also check whether the iterates for $A$ converge to $1-hB$:"
   ]
  },
  {
   "cell_type": "code",
   "execution_count": 105,
   "metadata": {},
   "outputs": [
    {
     "data": {
      "text/plain": [
       "-0.6000000000000001"
      ]
     },
     "execution_count": 105,
     "metadata": {},
     "output_type": "execute_result"
    }
   ],
   "source": [
    "1-h*B"
   ]
  },
  {
   "cell_type": "markdown",
   "metadata": {},
   "source": [
    "Note: Changing the initial priors seems to affect the behaviour greatly. "
   ]
  },
  {
   "cell_type": "code",
   "execution_count": 89,
   "metadata": {},
   "outputs": [
    {
     "data": {
      "text/plain": [
       "0.32264172007507835"
      ]
     },
     "execution_count": 89,
     "metadata": {},
     "output_type": "execute_result"
    }
   ],
   "source": [
    "(1-h*B)*0.5"
   ]
  },
  {
   "cell_type": "code",
   "execution_count": null,
   "metadata": {},
   "outputs": [],
   "source": [
    "#Changelist:\n",
    "#fixed B, h\n",
    "#different objective/x updates"
   ]
  }
 ],
 "metadata": {
  "kernelspec": {
   "display_name": "Python 3",
   "language": "python",
   "name": "python3"
  },
  "language_info": {
   "codemirror_mode": {
    "name": "ipython",
    "version": 3
   },
   "file_extension": ".py",
   "mimetype": "text/x-python",
   "name": "python",
   "nbconvert_exporter": "python",
   "pygments_lexer": "ipython3",
   "version": "3.6.2"
  }
 },
 "nbformat": 4,
 "nbformat_minor": 2
}
