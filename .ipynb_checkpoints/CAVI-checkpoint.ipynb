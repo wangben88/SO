{
 "cells": [
  {
   "cell_type": "markdown",
   "metadata": {},
   "source": [
    "Stochastic Optimization demo."
   ]
  },
  {
   "cell_type": "code",
   "execution_count": 74,
   "metadata": {},
   "outputs": [],
   "source": [
    "import numpy as np\n",
    "import matplotlib.pyplot as plt"
   ]
  },
  {
   "cell_type": "markdown",
   "metadata": {},
   "source": [
    "I apply stochastic optimization to the simple 1D problem of minimizing $Bx^2$. With step size h, this results in the gradient descent step:\n",
    "\n",
    "$$x_i = (1-hB)x_{i-1}$$\n",
    "\n",
    "The statistical model used for the x iterates is:\n",
    "\n",
    "$$x_i = \\mu + A(x_{i-1} - \\mu) + Z_i$$ \n",
    "\n",
    "where $\\mu$ is the optimal value of x (which is 0) and $Z_i$ is Gaussian noise. It would make sense that as our posterior updates continually, the mean for $\\mu$ should converge to 0, and the mean of $A$ should converge to $1-hB$. Both variances should decrease as we receive more data."
   ]
  },
  {
   "cell_type": "markdown",
   "metadata": {},
   "source": [
    "I maintain a dictionary containing the iterates for x, mu, A and Sigma (I don't actually update Sigma in the code below, just keep it constant). mu, A and Sigma are all N\\*2 numpy arrays with the first column being the sequence of means for the parameter and the second the sequence of variances."
   ]
  },
  {
   "cell_type": "code",
   "execution_count": 96,
   "metadata": {},
   "outputs": [],
   "source": [
    "def Optimize(B, prior_mu, prior_A, prior_sigma, num_iterations, h):\n",
    "    \n",
    "    Iterates_dict = {}\n",
    "    Iterates_dict[\"x\"] = np.zeros(num_iterations)\n",
    "    Iterates_dict[\"x\"][0] = 0.5\n",
    "    Iterates_dict[\"mu\"] = np.zeros((num_iterations, 2))\n",
    "    Iterates_dict[\"mu\"][0] = prior_mu\n",
    "    Iterates_dict[\"A\"] = np.zeros((num_iterations, 2))\n",
    "    Iterates_dict[\"A\"][0] = prior_A\n",
    "    Iterates_dict[\"Sigma\"] = np.zeros((num_iterations, 2))\n",
    "    Iterates_dict[\"Sigma\"][0] = prior_sigma\n",
    "    \n",
    "    \n",
    "    for i in range(1, num_iterations):\n",
    "        x_prev = Iterates_dict[\"x\"][i-1]\n",
    "        x_curr = (1 - h*B)*x_prev\n",
    "        Iterates_dict[\"x\"][i] = x_curr\n",
    "        \n",
    "        mu = Iterates_dict[\"mu\"][i-1]\n",
    "        A = Iterates_dict[\"A\"][i-1]\n",
    "        Sigma = Iterates_dict[\"Sigma\"][i-1]\n",
    "        Iterates_dict[\"mu\"][i] = mu\n",
    "        Iterates_dict[\"A\"][i] = A\n",
    "        Iterates_dict[\"Sigma\"][i] = Sigma\n",
    "        \n",
    "        # Switch between updating mu and updating A. First line is posterior mean update, second line is posterior variance\n",
    "        # update.\n",
    "        Iterates_dict[\"mu\"][i, 0] = (Sigma[0]*mu[0] + mu[1]*A[1]*x_prev + mu[1]*(1-A[0])*(x_curr - A[0]*x_prev))/(Sigma[0]+mu[1]*A[1]+mu[1]*(1-A[0])**2)\n",
    "        Iterates_dict[\"mu\"][i, 1] = (mu[1]*Sigma[0])/(Sigma[0]+mu[1]*A[1]+mu[1]*(1-A[0])**2)\n",
    "        mu = Iterates_dict[\"mu\"][i]\n",
    "        \n",
    "        Iterates_dict[\"A\"][i, 0] = (Sigma[0]*A[0] + A[1]*mu[1] + A[1]*(x_prev-mu[0])*(x_curr-mu[0]))/(Sigma[0]+A[1]*mu[1]+A[1]*(x_prev-mu[0])**2)\n",
    "        Iterates_dict[\"A\"][i, 1] = (A[1]*Sigma[0])/(Sigma[0]+A[1]*mu[1]+A[1]*(x_prev-mu[0])**2)\n",
    "            \n",
    "    return Iterates_dict"
   ]
  },
  {
   "cell_type": "code",
   "execution_count": 122,
   "metadata": {},
   "outputs": [],
   "source": [
    "B = np.random.uniform(0, 1) # optimization objective is Bx^2\n",
    "h = 0.1\n",
    "Iterates = Optimize(B, (0.5, 0.1), (0.5, 0.5), (0.5, 0.5), 10000, h) #Priors of mean 0.5, variance 0.5 on all parameters."
   ]
  },
  {
   "cell_type": "markdown",
   "metadata": {},
   "source": [
    "We can see how the iterates for x (gradient descent), $\\mu$ and $A$ (posterior updating) vary:"
   ]
  },
  {
   "cell_type": "code",
   "execution_count": 123,
   "metadata": {},
   "outputs": [
    {
     "name": "stdout",
     "output_type": "stream",
     "text": [
      "[  5.00000000e-001  -3.00000000e-001   1.80000000e-001 ...,\n",
      "  -4.94065646e-324   4.94065646e-324  -4.94065646e-324]\n",
      "[[ 0.1         0.1       ]\n",
      " [ 0.06923077  0.07692308]\n",
      " [ 0.06252634  0.06226351]\n",
      " ..., \n",
      " [ 0.00040326  0.00042327]\n",
      " [ 0.00040324  0.00042324]\n",
      " [ 0.00040322  0.00042322]]\n",
      "[[ 0.          0.5       ]\n",
      " [-0.06505437  0.39604424]\n",
      " [-0.04288907  0.34336554]\n",
      " ..., \n",
      " [ 0.8592128   0.0442481 ]\n",
      " [ 0.85921807  0.04424644]\n",
      " [ 0.85922335  0.04424479]]\n",
      "[[ 0.5  0.5]\n",
      " [ 0.5  0.5]\n",
      " [ 0.5  0.5]\n",
      " ..., \n",
      " [ 0.5  0.5]\n",
      " [ 0.5  0.5]\n",
      " [ 0.5  0.5]]\n"
     ]
    }
   ],
   "source": [
    "print(Iterates[\"x\"])\n",
    "print(Iterates[\"mu\"])\n",
    "print(Iterates[\"A\"])\n",
    "print(Iterates[\"Sigma\"])"
   ]
  },
  {
   "cell_type": "markdown",
   "metadata": {},
   "source": [
    "And plot how the posterior mean for $\\mu$ changes:"
   ]
  },
  {
   "cell_type": "code",
   "execution_count": 59,
   "metadata": {},
   "outputs": [
    {
     "data": {
      "text/plain": [
       "[<matplotlib.lines.Line2D at 0xb074930>]"
      ]
     },
     "execution_count": 59,
     "metadata": {},
     "output_type": "execute_result"
    },
    {
     "data": {
      "image/png": "[encoded data removed]",
      "text/plain": [
       "<matplotlib.figure.Figure at 0xb024970>"
      ]
     },
     "metadata": {},
     "output_type": "display_data"
    }
   ],
   "source": [
    "plt.plot(Iterates[\"mu\"][:, 0])"
   ]
  },
  {
   "cell_type": "markdown",
   "metadata": {},
   "source": [
    "We can also check whether the iterates for $A$ converge to $1-hB$:"
   ]
  },
  {
   "cell_type": "code",
   "execution_count": 105,
   "metadata": {},
   "outputs": [
    {
     "data": {
      "text/plain": [
       "-0.6000000000000001"
      ]
     },
     "execution_count": 105,
     "metadata": {},
     "output_type": "execute_result"
    }
   ],
   "source": [
    "1-h*B"
   ]
  },
  {
   "cell_type": "markdown",
   "metadata": {},
   "source": [
    "Note: Changing the initial priors seems to affect the behaviour greatly. "
   ]
  },
  {
   "cell_type": "code",
   "execution_count": 89,
   "metadata": {},
   "outputs": [
    {
     "data": {
      "text/plain": [
       "0.32264172007507835"
      ]
     },
     "execution_count": 89,
     "metadata": {},
     "output_type": "execute_result"
    }
   ],
   "source": [
    "(1-h*B)*0.5"
   ]
  },
  {
   "cell_type": "code",
   "execution_count": null,
   "metadata": {},
   "outputs": [],
   "source": []
  }
 ],
 "metadata": {
  "kernelspec": {
   "display_name": "Python 3",
   "language": "python",
   "name": "python3"
  },
  "language_info": {
   "codemirror_mode": {
    "name": "ipython",
    "version": 3
   },
   "file_extension": ".py",
   "mimetype": "text/x-python",
   "name": "python",
   "nbconvert_exporter": "python",
   "pygments_lexer": "ipython3",
   "version": "3.6.2"
  }
 },
 "nbformat": 4,
 "nbformat_minor": 2
}
